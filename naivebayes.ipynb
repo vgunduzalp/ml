{
  "nbformat": 4,
  "nbformat_minor": 0,
  "metadata": {
    "colab": {
      "name": "naivebayes.ipynb",
      "provenance": [],
      "collapsed_sections": []
    },
    "kernelspec": {
      "name": "python3",
      "display_name": "Python 3"
    }
  },
  "cells": [
    {
      "cell_type": "markdown",
      "metadata": {
        "id": "sgRI2y9WUeWO",
        "colab_type": "text"
      },
      "source": [
        "# Naive Bayes - Reklam Örneği"
      ]
    },
    {
      "cell_type": "markdown",
      "metadata": {
        "id": "Otjebm-2VP-p",
        "colab_type": "text"
      },
      "source": [
        "**Verinin okunması**\n",
        "\n",
        "---\n",
        "\n",
        "\n",
        "Öncelikle verileri pandas yardımı ile okuyoruz."
      ]
    },
    {
      "cell_type": "code",
      "metadata": {
        "id": "qTAQG1owUJO4",
        "colab_type": "code",
        "outputId": "07983aac-5a12-44df-b931-30018aceae6b",
        "colab": {
          "base_uri": "https://localhost:8080/",
          "height": 419
        }
      },
      "source": [
        "import numpy as np\n",
        "import matplotlib.pyplot as plt\n",
        "import os\n",
        "import pandas as pd\n",
        "dataset = pd.read_csv('data.csv')\n",
        "dataset"
      ],
      "execution_count": 32,
      "outputs": [
        {
          "output_type": "execute_result",
          "data": {
            "text/html": [
              "<div>\n",
              "<style scoped>\n",
              "    .dataframe tbody tr th:only-of-type {\n",
              "        vertical-align: middle;\n",
              "    }\n",
              "\n",
              "    .dataframe tbody tr th {\n",
              "        vertical-align: top;\n",
              "    }\n",
              "\n",
              "    .dataframe thead th {\n",
              "        text-align: right;\n",
              "    }\n",
              "</style>\n",
              "<table border=\"1\" class=\"dataframe\">\n",
              "  <thead>\n",
              "    <tr style=\"text-align: right;\">\n",
              "      <th></th>\n",
              "      <th>KullaniciID</th>\n",
              "      <th>Cinsiyet</th>\n",
              "      <th>Yas</th>\n",
              "      <th>TahminiMaas</th>\n",
              "      <th>SatinAldiMi</th>\n",
              "    </tr>\n",
              "  </thead>\n",
              "  <tbody>\n",
              "    <tr>\n",
              "      <th>0</th>\n",
              "      <td>15624510</td>\n",
              "      <td>Erkek</td>\n",
              "      <td>19</td>\n",
              "      <td>19000</td>\n",
              "      <td>0</td>\n",
              "    </tr>\n",
              "    <tr>\n",
              "      <th>1</th>\n",
              "      <td>15810944</td>\n",
              "      <td>Erkek</td>\n",
              "      <td>35</td>\n",
              "      <td>20000</td>\n",
              "      <td>0</td>\n",
              "    </tr>\n",
              "    <tr>\n",
              "      <th>2</th>\n",
              "      <td>15668575</td>\n",
              "      <td>Kadın</td>\n",
              "      <td>26</td>\n",
              "      <td>43000</td>\n",
              "      <td>0</td>\n",
              "    </tr>\n",
              "    <tr>\n",
              "      <th>3</th>\n",
              "      <td>15603246</td>\n",
              "      <td>Kadın</td>\n",
              "      <td>27</td>\n",
              "      <td>57000</td>\n",
              "      <td>0</td>\n",
              "    </tr>\n",
              "    <tr>\n",
              "      <th>4</th>\n",
              "      <td>15804002</td>\n",
              "      <td>Erkek</td>\n",
              "      <td>19</td>\n",
              "      <td>76000</td>\n",
              "      <td>0</td>\n",
              "    </tr>\n",
              "    <tr>\n",
              "      <th>...</th>\n",
              "      <td>...</td>\n",
              "      <td>...</td>\n",
              "      <td>...</td>\n",
              "      <td>...</td>\n",
              "      <td>...</td>\n",
              "    </tr>\n",
              "    <tr>\n",
              "      <th>395</th>\n",
              "      <td>15691863</td>\n",
              "      <td>Kadın</td>\n",
              "      <td>46</td>\n",
              "      <td>41000</td>\n",
              "      <td>1</td>\n",
              "    </tr>\n",
              "    <tr>\n",
              "      <th>396</th>\n",
              "      <td>15706071</td>\n",
              "      <td>Erkek</td>\n",
              "      <td>51</td>\n",
              "      <td>23000</td>\n",
              "      <td>1</td>\n",
              "    </tr>\n",
              "    <tr>\n",
              "      <th>397</th>\n",
              "      <td>15654296</td>\n",
              "      <td>Kadın</td>\n",
              "      <td>50</td>\n",
              "      <td>20000</td>\n",
              "      <td>1</td>\n",
              "    </tr>\n",
              "    <tr>\n",
              "      <th>398</th>\n",
              "      <td>15755018</td>\n",
              "      <td>Erkek</td>\n",
              "      <td>36</td>\n",
              "      <td>33000</td>\n",
              "      <td>0</td>\n",
              "    </tr>\n",
              "    <tr>\n",
              "      <th>399</th>\n",
              "      <td>15594041</td>\n",
              "      <td>Kadın</td>\n",
              "      <td>49</td>\n",
              "      <td>36000</td>\n",
              "      <td>1</td>\n",
              "    </tr>\n",
              "  </tbody>\n",
              "</table>\n",
              "<p>400 rows × 5 columns</p>\n",
              "</div>"
            ],
            "text/plain": [
              "     KullaniciID Cinsiyet  Yas  TahminiMaas  SatinAldiMi\n",
              "0       15624510    Erkek   19        19000            0\n",
              "1       15810944    Erkek   35        20000            0\n",
              "2       15668575    Kadın   26        43000            0\n",
              "3       15603246    Kadın   27        57000            0\n",
              "4       15804002    Erkek   19        76000            0\n",
              "..           ...      ...  ...          ...          ...\n",
              "395     15691863    Kadın   46        41000            1\n",
              "396     15706071    Erkek   51        23000            1\n",
              "397     15654296    Kadın   50        20000            1\n",
              "398     15755018    Erkek   36        33000            0\n",
              "399     15594041    Kadın   49        36000            1\n",
              "\n",
              "[400 rows x 5 columns]"
            ]
          },
          "metadata": {
            "tags": []
          },
          "execution_count": 32
        }
      ]
    },
    {
      "cell_type": "markdown",
      "metadata": {
        "id": "AxD_rqKxU3RO",
        "colab_type": "text"
      },
      "source": [
        "belirli reklam girdileri sonucunda kullanıcının ürünü satın alıp almadığı **SatinAldiMi** kolonundan anlıyoruz."
      ]
    },
    {
      "cell_type": "markdown",
      "metadata": {
        "id": "1FuDheaXfb2O",
        "colab_type": "text"
      },
      "source": [
        "sadece yaş ve maas değerlerini alıyoruz."
      ]
    },
    {
      "cell_type": "code",
      "metadata": {
        "id": "rk-GXucjV5CY",
        "colab_type": "code",
        "colab": {}
      },
      "source": [
        "X = dataset.iloc[:, [2,3]].values\n",
        "y = dataset.iloc[:, 4].values"
      ],
      "execution_count": 0,
      "outputs": []
    },
    {
      "cell_type": "code",
      "metadata": {
        "id": "wkbMq1S-fvNp",
        "colab_type": "code",
        "outputId": "9193a272-59b0-44c8-9ad8-ba8a3d5fd7ed",
        "colab": {
          "base_uri": "https://localhost:8080/",
          "height": 51
        }
      },
      "source": [
        "print(X.shape)\n",
        "print(y.shape)"
      ],
      "execution_count": 0,
      "outputs": [
        {
          "output_type": "stream",
          "text": [
            "(400, 2)\n",
            "(400,)\n"
          ],
          "name": "stdout"
        }
      ]
    },
    {
      "cell_type": "markdown",
      "metadata": {
        "id": "g06gIE0Xf-l2",
        "colab_type": "text"
      },
      "source": [
        "**Verileri Eğitim ve Test Olarak Ayırma**\n",
        "\n",
        "\n",
        "---\n",
        "\n",
        "\n",
        "verilerimizin yüzde 25 ini test olarak ayırdık. geri kalan kısmın eğitim için kullanacağız."
      ]
    },
    {
      "cell_type": "code",
      "metadata": {
        "id": "aS0v1eQ8fyX6",
        "colab_type": "code",
        "colab": {}
      },
      "source": [
        "from sklearn.model_selection import train_test_split\n",
        "X_train, X_test, y_train, y_test = train_test_split(X, y, test_size = 0.25, random_state = 0)"
      ],
      "execution_count": 0,
      "outputs": []
    },
    {
      "cell_type": "markdown",
      "metadata": {
        "id": "i2znJI8Ogd3G",
        "colab_type": "text"
      },
      "source": [
        "**Normalizasyon**\n",
        "\n",
        "\n",
        "---\n",
        "\n",
        "\n",
        "Yaş ve Tahmini maaş alanları aynı birimde olmadığı için, bunları değerleri ölçeklendireceğiz."
      ]
    },
    {
      "cell_type": "code",
      "metadata": {
        "id": "UQw8xD8PgrgP",
        "colab_type": "code",
        "colab": {}
      },
      "source": [
        "from sklearn.preprocessing import StandardScaler\n",
        "sc_X = StandardScaler()\n",
        "X_train = sc_X.fit_transform(X_train)\n",
        "X_test = sc_X.transform(X_test)"
      ],
      "execution_count": 0,
      "outputs": []
    },
    {
      "cell_type": "markdown",
      "metadata": {
        "id": "3uxWLGW1g1Yp",
        "colab_type": "text"
      },
      "source": [
        "**Model Oluşturmak**\n",
        "\n",
        "\n",
        "---\n",
        "\n",
        "scikit-learn kütüphanesindeki GaussianNB sınıfını kullanarak modeli oluştuup eğiteceğiz."
      ]
    },
    {
      "cell_type": "code",
      "metadata": {
        "id": "ELsKFBs2g_5g",
        "colab_type": "code",
        "outputId": "9031dfd1-db7a-4d1b-94ee-80e82d93a097",
        "colab": {
          "base_uri": "https://localhost:8080/",
          "height": 34
        }
      },
      "source": [
        "from sklearn.naive_bayes import GaussianNB\n",
        "classifier = GaussianNB()\n",
        "classifier.fit(X_train, y_train)"
      ],
      "execution_count": 0,
      "outputs": [
        {
          "output_type": "execute_result",
          "data": {
            "text/plain": [
              "GaussianNB(priors=None, var_smoothing=1e-09)"
            ]
          },
          "metadata": {
            "tags": []
          },
          "execution_count": 16
        }
      ]
    },
    {
      "cell_type": "markdown",
      "metadata": {
        "id": "kjcAmv7jhYQU",
        "colab_type": "text"
      },
      "source": [
        "**Tahmin**\n",
        "\n",
        "---\n",
        "\n",
        "yukarıda yüzde 25 ini test için ayrdığımız verileri tahmin etmeye çalışalım"
      ]
    },
    {
      "cell_type": "code",
      "metadata": {
        "id": "awQww0Sbhg_V",
        "colab_type": "code",
        "outputId": "cbb507db-efef-4c0c-eb34-a08917087e38",
        "colab": {
          "base_uri": "https://localhost:8080/",
          "height": 419
        }
      },
      "source": [
        "y_pred = classifier.predict(X_test)\n",
        "karsilastirmali_data = []\n",
        "for i in range(len(y_test)):\n",
        "  sonuc = 'DOĞRU'\n",
        "  if y_test[i] != y_pred[i]:\n",
        "    sonuc = 'YANLIŞ'\n",
        "  karsilastirmali_data.append([y_test[i],y_pred[i],sonuc])\n",
        "df = pd.DataFrame(karsilastirmali_data, columns = ['Gerçek', 'Tahmin','Sonuç'])\n",
        "df"
      ],
      "execution_count": 0,
      "outputs": [
        {
          "output_type": "execute_result",
          "data": {
            "text/html": [
              "<div>\n",
              "<style scoped>\n",
              "    .dataframe tbody tr th:only-of-type {\n",
              "        vertical-align: middle;\n",
              "    }\n",
              "\n",
              "    .dataframe tbody tr th {\n",
              "        vertical-align: top;\n",
              "    }\n",
              "\n",
              "    .dataframe thead th {\n",
              "        text-align: right;\n",
              "    }\n",
              "</style>\n",
              "<table border=\"1\" class=\"dataframe\">\n",
              "  <thead>\n",
              "    <tr style=\"text-align: right;\">\n",
              "      <th></th>\n",
              "      <th>Gerçek</th>\n",
              "      <th>Tahmin</th>\n",
              "      <th>Sonuç</th>\n",
              "    </tr>\n",
              "  </thead>\n",
              "  <tbody>\n",
              "    <tr>\n",
              "      <th>0</th>\n",
              "      <td>0</td>\n",
              "      <td>0</td>\n",
              "      <td>DOĞRU</td>\n",
              "    </tr>\n",
              "    <tr>\n",
              "      <th>1</th>\n",
              "      <td>0</td>\n",
              "      <td>0</td>\n",
              "      <td>DOĞRU</td>\n",
              "    </tr>\n",
              "    <tr>\n",
              "      <th>2</th>\n",
              "      <td>0</td>\n",
              "      <td>0</td>\n",
              "      <td>DOĞRU</td>\n",
              "    </tr>\n",
              "    <tr>\n",
              "      <th>3</th>\n",
              "      <td>0</td>\n",
              "      <td>0</td>\n",
              "      <td>DOĞRU</td>\n",
              "    </tr>\n",
              "    <tr>\n",
              "      <th>4</th>\n",
              "      <td>0</td>\n",
              "      <td>0</td>\n",
              "      <td>DOĞRU</td>\n",
              "    </tr>\n",
              "    <tr>\n",
              "      <th>...</th>\n",
              "      <td>...</td>\n",
              "      <td>...</td>\n",
              "      <td>...</td>\n",
              "    </tr>\n",
              "    <tr>\n",
              "      <th>95</th>\n",
              "      <td>1</td>\n",
              "      <td>0</td>\n",
              "      <td>YANLIŞ</td>\n",
              "    </tr>\n",
              "    <tr>\n",
              "      <th>96</th>\n",
              "      <td>0</td>\n",
              "      <td>0</td>\n",
              "      <td>DOĞRU</td>\n",
              "    </tr>\n",
              "    <tr>\n",
              "      <th>97</th>\n",
              "      <td>1</td>\n",
              "      <td>1</td>\n",
              "      <td>DOĞRU</td>\n",
              "    </tr>\n",
              "    <tr>\n",
              "      <th>98</th>\n",
              "      <td>1</td>\n",
              "      <td>1</td>\n",
              "      <td>DOĞRU</td>\n",
              "    </tr>\n",
              "    <tr>\n",
              "      <th>99</th>\n",
              "      <td>1</td>\n",
              "      <td>1</td>\n",
              "      <td>DOĞRU</td>\n",
              "    </tr>\n",
              "  </tbody>\n",
              "</table>\n",
              "<p>100 rows × 3 columns</p>\n",
              "</div>"
            ],
            "text/plain": [
              "    Gerçek  Tahmin   Sonuç\n",
              "0        0       0   DOĞRU\n",
              "1        0       0   DOĞRU\n",
              "2        0       0   DOĞRU\n",
              "3        0       0   DOĞRU\n",
              "4        0       0   DOĞRU\n",
              "..     ...     ...     ...\n",
              "95       1       0  YANLIŞ\n",
              "96       0       0   DOĞRU\n",
              "97       1       1   DOĞRU\n",
              "98       1       1   DOĞRU\n",
              "99       1       1   DOĞRU\n",
              "\n",
              "[100 rows x 3 columns]"
            ]
          },
          "metadata": {
            "tags": []
          },
          "execution_count": 28
        }
      ]
    },
    {
      "cell_type": "markdown",
      "metadata": {
        "id": "wBklTs8Aj6Zn",
        "colab_type": "text"
      },
      "source": [
        "**Görselleştirme**\n",
        "\n",
        "---\n",
        "\n",
        "\n",
        "Eğitim datasını görselleştirme"
      ]
    },
    {
      "cell_type": "code",
      "metadata": {
        "id": "pBMQ4RNHkAdJ",
        "colab_type": "code",
        "outputId": "bd7b45ab-3911-4177-d3df-27c964dbe514",
        "colab": {
          "base_uri": "https://localhost:8080/",
          "height": 349
        }
      },
      "source": [
        "from matplotlib.colors import ListedColormap\n",
        "X_set, y_set = X_train, y_train\n",
        "X1, X2 = np.meshgrid(np.arange(start = X_set[:, 0].min() - 1, stop = X_set[:, 0].max() + 1, step = 0.01),\n",
        "                     np.arange(start = X_set[:, 1].min() - 1, stop = X_set[:, 1].max() + 1, step = 0.01))\n",
        "plt.contourf(X1, X2, classifier.predict(np.array([X1.ravel(), X2.ravel()]).T).reshape(X1.shape),\n",
        "             alpha = 0.75, cmap = ListedColormap(('red', 'green')))\n",
        "plt.xlim(X1.min(), X1.max())\n",
        "plt.ylim(X2.min(), X2.max())\n",
        "for i, j in enumerate(np.unique(y_set)):\n",
        "       plt.scatter(X_set[y_set == j, 0], X_set[y_set == j, 1],\n",
        "                   c = ListedColormap(('red', 'green'))(i), label = j)\n",
        "plt.title('Naive Bayes (Eğitim Seti)')\n",
        "plt.xlabel('Yaş')\n",
        "plt.ylabel('Maaş')\n",
        "plt.legend()\n",
        "plt.show()"
      ],
      "execution_count": 0,
      "outputs": [
        {
          "output_type": "stream",
          "text": [
            "'c' argument looks like a single numeric RGB or RGBA sequence, which should be avoided as value-mapping will have precedence in case its length matches with 'x' & 'y'.  Please use a 2-D array with a single row if you really want to specify the same RGB or RGBA value for all points.\n",
            "'c' argument looks like a single numeric RGB or RGBA sequence, which should be avoided as value-mapping will have precedence in case its length matches with 'x' & 'y'.  Please use a 2-D array with a single row if you really want to specify the same RGB or RGBA value for all points.\n"
          ],
          "name": "stderr"
        },
        {
          "output_type": "display_data",
          "data": {
            "image/png": "[encoded data removed]",
            "text/plain": [
              "<Figure size 432x288 with 1 Axes>"
            ]
          },
          "metadata": {
            "tags": []
          }
        }
      ]
    }
  ]
}